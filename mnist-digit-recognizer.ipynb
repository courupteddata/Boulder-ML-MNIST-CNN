{
 "cells": [
  {
   "cell_type": "markdown",
   "id": "3c9818b6",
   "metadata": {
    "papermill": {
     "duration": 0.005619,
     "end_time": "2024-11-28T01:46:52.036831",
     "exception": false,
     "start_time": "2024-11-28T01:46:52.031212",
     "status": "completed"
    },
    "tags": []
   },
   "source": [
    "# MNIST Digit Recognization\n",
    "\n",
    "The goal of this notebook is to try different deep learning techniques to accurately identify the digit that the gray scale image represents. The image pixels are stored in a CSV as seperate columns.\n",
    "\n",
    "\n",
    "\n",
    "Dataset Citation: AstroDave and Will Cukierski. Digit Recognizer. https://kaggle.com/competitions/digit-recognizer, 2012. Kaggle."
   ]
  },
  {
   "cell_type": "code",
   "execution_count": 1,
   "id": "47da8ab2",
   "metadata": {
    "_cell_guid": "b1076dfc-b9ad-4769-8c92-a6c4dae69d19",
    "_uuid": "8f2839f25d086af736a60e9eeb907d3b93b6e0e5",
    "execution": {
     "iopub.execute_input": "2024-11-28T01:46:52.048208Z",
     "iopub.status.busy": "2024-11-28T01:46:52.047674Z",
     "iopub.status.idle": "2024-11-28T01:47:07.758982Z",
     "shell.execute_reply": "2024-11-28T01:47:07.757810Z"
    },
    "papermill": {
     "duration": 15.720121,
     "end_time": "2024-11-28T01:47:07.761659",
     "exception": false,
     "start_time": "2024-11-28T01:46:52.041538",
     "status": "completed"
    },
    "tags": []
   },
   "outputs": [],
   "source": [
    "# Importing Libraries\n",
    "import numpy as np \n",
    "import pandas as pd \n",
    "import matplotlib.pyplot as plt\n",
    "from keras import layers, models, optimizers, callbacks, utils, metrics, losses\n",
    "\n",
    "# You can write up to 20GB to the current directory (/kaggle/working/) that gets preserved as output when you create a version using \"Save & Run All\" \n",
    "# You can also write temporary files to /kaggle/temp/, but they won't be saved outside of the current session"
   ]
  },
  {
   "cell_type": "markdown",
   "id": "2dbb8ff0",
   "metadata": {
    "papermill": {
     "duration": 0.004882,
     "end_time": "2024-11-28T01:47:07.771113",
     "exception": false,
     "start_time": "2024-11-28T01:47:07.766231",
     "status": "completed"
    },
    "tags": []
   },
   "source": [
    "# Data Exploration\n",
    "\n",
    "Loading the data, scaling the values, showing some of the images. Also showing the distribution of the labels."
   ]
  },
  {
   "cell_type": "code",
   "execution_count": 2,
   "id": "7c548107",
   "metadata": {
    "execution": {
     "iopub.execute_input": "2024-11-28T01:47:07.782204Z",
     "iopub.status.busy": "2024-11-28T01:47:07.781593Z",
     "iopub.status.idle": "2024-11-28T01:47:13.037158Z",
     "shell.execute_reply": "2024-11-28T01:47:13.035679Z"
    },
    "papermill": {
     "duration": 5.263782,
     "end_time": "2024-11-28T01:47:13.039591",
     "exception": false,
     "start_time": "2024-11-28T01:47:07.775809",
     "status": "completed"
    },
    "tags": []
   },
   "outputs": [
    {
     "name": "stdout",
     "output_type": "stream",
     "text": [
      "Index(['label', 'pixel0', 'pixel1', 'pixel2', 'pixel3', 'pixel4', 'pixel5',\n",
      "       'pixel6', 'pixel7', 'pixel8',\n",
      "       ...\n",
      "       'pixel774', 'pixel775', 'pixel776', 'pixel777', 'pixel778', 'pixel779',\n",
      "       'pixel780', 'pixel781', 'pixel782', 'pixel783'],\n",
      "      dtype='object', length=785)\n",
      "Index(['pixel0', 'pixel1', 'pixel2', 'pixel3', 'pixel4', 'pixel5', 'pixel6',\n",
      "       'pixel7', 'pixel8', 'pixel9',\n",
      "       ...\n",
      "       'pixel774', 'pixel775', 'pixel776', 'pixel777', 'pixel778', 'pixel779',\n",
      "       'pixel780', 'pixel781', 'pixel782', 'pixel783'],\n",
      "      dtype='object', length=784)\n",
      "   label  pixel0  pixel1  pixel2  pixel3  pixel4  pixel5  pixel6  pixel7  \\\n",
      "0      1       0       0       0       0       0       0       0       0   \n",
      "\n",
      "   pixel8  ...  pixel774  pixel775  pixel776  pixel777  pixel778  pixel779  \\\n",
      "0       0  ...         0         0         0         0         0         0   \n",
      "\n",
      "   pixel780  pixel781  pixel782  pixel783  \n",
      "0         0         0         0         0  \n",
      "\n",
      "[1 rows x 785 columns]\n",
      "   pixel0  pixel1  pixel2  pixel3  pixel4  pixel5  pixel6  pixel7  pixel8  \\\n",
      "0       0       0       0       0       0       0       0       0       0   \n",
      "\n",
      "   pixel9  ...  pixel774  pixel775  pixel776  pixel777  pixel778  pixel779  \\\n",
      "0       0  ...         0         0         0         0         0         0   \n",
      "\n",
      "   pixel780  pixel781  pixel782  pixel783  \n",
      "0         0         0         0         0  \n",
      "\n",
      "[1 rows x 784 columns]\n"
     ]
    }
   ],
   "source": [
    "# Loading the data\n",
    "train_df = pd.read_csv(\"/kaggle/input/digit-recognizer/train.csv\")\n",
    "test_df = pd.read_csv(\"/kaggle/input/digit-recognizer/test.csv\")\n",
    "print(train_df.columns)\n",
    "print(test_df.columns)\n",
    "\n",
    "print(train_df.head(1))\n",
    "print(test_df.head(1))"
   ]
  },
  {
   "cell_type": "markdown",
   "id": "20d0d014",
   "metadata": {
    "papermill": {
     "duration": 0.005424,
     "end_time": "2024-11-28T01:47:13.049989",
     "exception": false,
     "start_time": "2024-11-28T01:47:13.044565",
     "status": "completed"
    },
    "tags": []
   },
   "source": [
    "The `train_df` contains a `label` field that will be used to train the model and the `test_df` does not contain that column. Also each image has been flattened to be 784 pixel long array instead of being multi-dimensional array that is 28x28. Will be trying the normalization layer and the rescaling layer to see which has better behavior in pre-processing."
   ]
  },
  {
   "cell_type": "code",
   "execution_count": 3,
   "id": "4ef04db4",
   "metadata": {
    "execution": {
     "iopub.execute_input": "2024-11-28T01:47:13.061118Z",
     "iopub.status.busy": "2024-11-28T01:47:13.060727Z",
     "iopub.status.idle": "2024-11-28T01:47:13.195325Z",
     "shell.execute_reply": "2024-11-28T01:47:13.194127Z"
    },
    "papermill": {
     "duration": 0.143441,
     "end_time": "2024-11-28T01:47:13.198115",
     "exception": false,
     "start_time": "2024-11-28T01:47:13.054674",
     "status": "completed"
    },
    "tags": []
   },
   "outputs": [],
   "source": [
    "# Convert integer datatype to float to be standerdized\n",
    "# Skip first column which is the label\n",
    "X_train = train_df.iloc[:,1:].values.astype(\"float32\")\n",
    "y_train = train_df.iloc[:,0].values.astype(\"int32\")\n",
    "X_test = test_df.values.astype(\"float32\")\n",
    "\n",
    "# to be able to use the categorical_crossentropy loss\n",
    "# y_train needs to be converted to a binary class matrix\n",
    "y_train = utils.to_categorical(y_train)"
   ]
  },
  {
   "cell_type": "code",
   "execution_count": 4,
   "id": "9dde0c75",
   "metadata": {
    "execution": {
     "iopub.execute_input": "2024-11-28T01:47:13.210115Z",
     "iopub.status.busy": "2024-11-28T01:47:13.209714Z",
     "iopub.status.idle": "2024-11-28T01:47:13.412249Z",
     "shell.execute_reply": "2024-11-28T01:47:13.411011Z"
    },
    "papermill": {
     "duration": 0.210684,
     "end_time": "2024-11-28T01:47:13.414547",
     "exception": false,
     "start_time": "2024-11-28T01:47:13.203863",
     "status": "completed"
    },
    "tags": []
   },
   "outputs": [
    {
     "data": {
      "image/png": "[encoded data removed]",
      "text/plain": [
       "<Figure size 500x500 with 1 Axes>"
      ]
     },
     "metadata": {},
     "output_type": "display_data"
    }
   ],
   "source": [
    "# Plotting some example images\n",
    "def plot_image(pixel_array, actual=None):\n",
    "    img = pixel_array.reshape(28, 28)\n",
    "    plt.figure(figsize=(5, 5))\n",
    "    if actual:\n",
    "        plt.title(f\"Label: {actual}\")\n",
    "    plt.imshow(img, cmap=plt.get_cmap(\"gray\"))\n",
    "    plt.axis(\"off\")\n",
    "    plt.show()\n",
    "\n",
    "# Plot first image\n",
    "plot_image(train_df.iloc[0, 1:].values, train_df.iloc[0, 0])"
   ]
  },
  {
   "cell_type": "code",
   "execution_count": 5,
   "id": "276b4533",
   "metadata": {
    "execution": {
     "iopub.execute_input": "2024-11-28T01:47:13.426116Z",
     "iopub.status.busy": "2024-11-28T01:47:13.425692Z",
     "iopub.status.idle": "2024-11-28T01:47:13.602650Z",
     "shell.execute_reply": "2024-11-28T01:47:13.601203Z"
    },
    "papermill": {
     "duration": 0.185367,
     "end_time": "2024-11-28T01:47:13.604886",
     "exception": false,
     "start_time": "2024-11-28T01:47:13.419519",
     "status": "completed"
    },
    "tags": []
   },
   "outputs": [
    {
     "data": {
      "image/png": "[encoded data removed]",
      "text/plain": [
       "<Figure size 640x480 with 1 Axes>"
      ]
     },
     "metadata": {},
     "output_type": "display_data"
    }
   ],
   "source": [
    "# Label distribution\n",
    "plt.title(\"Label Counts\")\n",
    "plt.hist(train_df.iloc[:,0].values, bins=10)\n",
    "plt.show()"
   ]
  },
  {
   "cell_type": "markdown",
   "id": "f6ab15f3",
   "metadata": {
    "papermill": {
     "duration": 0.00492,
     "end_time": "2024-11-28T01:47:13.615651",
     "exception": false,
     "start_time": "2024-11-28T01:47:13.610731",
     "status": "completed"
    },
    "tags": []
   },
   "source": [
    "The labels seem very evenly distributed and since the input data is already at different angles it is not necessary to rotate the input for better training. Nothing from the input data appears like there would be any outliers as this is a pretty clean dataset. \n",
    "\n",
    "# Model Creation\n",
    "\n",
    "Model one will focus on using the Keras layer for Rescaling and the second model will use the normalization pre-processor to see which has a better results, be that faster training or better accuracy. Also to prevent overfitting Dropout layers will be used."
   ]
  },
  {
   "cell_type": "code",
   "execution_count": 6,
   "id": "617398a9",
   "metadata": {
    "execution": {
     "iopub.execute_input": "2024-11-28T01:47:13.628515Z",
     "iopub.status.busy": "2024-11-28T01:47:13.628074Z",
     "iopub.status.idle": "2024-11-28T01:56:08.202397Z",
     "shell.execute_reply": "2024-11-28T01:56:08.201029Z"
    },
    "papermill": {
     "duration": 534.584609,
     "end_time": "2024-11-28T01:56:08.206117",
     "exception": false,
     "start_time": "2024-11-28T01:47:13.621508",
     "status": "completed"
    },
    "tags": []
   },
   "outputs": [
    {
     "data": {
      "text/html": [
       "<pre style=\"white-space:pre;overflow-x:auto;line-height:normal;font-family:Menlo,'DejaVu Sans Mono',consolas,'Courier New',monospace\"><span style=\"font-weight: bold\">Model: \"sequential\"</span>\n",
       "</pre>\n"
      ],
      "text/plain": [
       "\u001b[1mModel: \"sequential\"\u001b[0m\n"
      ]
     },
     "metadata": {},
     "output_type": "display_data"
    },
    {
     "data": {
      "text/html": [
       "<pre style=\"white-space:pre;overflow-x:auto;line-height:normal;font-family:Menlo,'DejaVu Sans Mono',consolas,'Courier New',monospace\">┏━━━━━━━━━━━━━━━━━━━━━━━━━━━━━━━━━┳━━━━━━━━━━━━━━━━━━━━━━━━┳━━━━━━━━━━━━━━━┓\n",
       "┃<span style=\"font-weight: bold\"> Layer (type)                    </span>┃<span style=\"font-weight: bold\"> Output Shape           </span>┃<span style=\"font-weight: bold\">       Param # </span>┃\n",
       "┡━━━━━━━━━━━━━━━━━━━━━━━━━━━━━━━━━╇━━━━━━━━━━━━━━━━━━━━━━━━╇━━━━━━━━━━━━━━━┩\n",
       "│ rescaling (<span style=\"color: #0087ff; text-decoration-color: #0087ff\">Rescaling</span>)           │ (<span style=\"color: #00d7ff; text-decoration-color: #00d7ff\">None</span>, <span style=\"color: #00af00; text-decoration-color: #00af00\">784</span>, <span style=\"color: #00af00; text-decoration-color: #00af00\">1</span>)         │             <span style=\"color: #00af00; text-decoration-color: #00af00\">0</span> │\n",
       "├─────────────────────────────────┼────────────────────────┼───────────────┤\n",
       "│ reshape (<span style=\"color: #0087ff; text-decoration-color: #0087ff\">Reshape</span>)               │ (<span style=\"color: #00d7ff; text-decoration-color: #00d7ff\">None</span>, <span style=\"color: #00af00; text-decoration-color: #00af00\">28</span>, <span style=\"color: #00af00; text-decoration-color: #00af00\">28</span>, <span style=\"color: #00af00; text-decoration-color: #00af00\">1</span>)      │             <span style=\"color: #00af00; text-decoration-color: #00af00\">0</span> │\n",
       "├─────────────────────────────────┼────────────────────────┼───────────────┤\n",
       "│ conv2d (<span style=\"color: #0087ff; text-decoration-color: #0087ff\">Conv2D</span>)                 │ (<span style=\"color: #00d7ff; text-decoration-color: #00d7ff\">None</span>, <span style=\"color: #00af00; text-decoration-color: #00af00\">26</span>, <span style=\"color: #00af00; text-decoration-color: #00af00\">26</span>, <span style=\"color: #00af00; text-decoration-color: #00af00\">28</span>)     │           <span style=\"color: #00af00; text-decoration-color: #00af00\">280</span> │\n",
       "├─────────────────────────────────┼────────────────────────┼───────────────┤\n",
       "│ conv2d_1 (<span style=\"color: #0087ff; text-decoration-color: #0087ff\">Conv2D</span>)               │ (<span style=\"color: #00d7ff; text-decoration-color: #00d7ff\">None</span>, <span style=\"color: #00af00; text-decoration-color: #00af00\">24</span>, <span style=\"color: #00af00; text-decoration-color: #00af00\">24</span>, <span style=\"color: #00af00; text-decoration-color: #00af00\">28</span>)     │         <span style=\"color: #00af00; text-decoration-color: #00af00\">7,084</span> │\n",
       "├─────────────────────────────────┼────────────────────────┼───────────────┤\n",
       "│ max_pooling2d (<span style=\"color: #0087ff; text-decoration-color: #0087ff\">MaxPooling2D</span>)    │ (<span style=\"color: #00d7ff; text-decoration-color: #00d7ff\">None</span>, <span style=\"color: #00af00; text-decoration-color: #00af00\">12</span>, <span style=\"color: #00af00; text-decoration-color: #00af00\">12</span>, <span style=\"color: #00af00; text-decoration-color: #00af00\">28</span>)     │             <span style=\"color: #00af00; text-decoration-color: #00af00\">0</span> │\n",
       "├─────────────────────────────────┼────────────────────────┼───────────────┤\n",
       "│ conv2d_2 (<span style=\"color: #0087ff; text-decoration-color: #0087ff\">Conv2D</span>)               │ (<span style=\"color: #00d7ff; text-decoration-color: #00d7ff\">None</span>, <span style=\"color: #00af00; text-decoration-color: #00af00\">10</span>, <span style=\"color: #00af00; text-decoration-color: #00af00\">10</span>, <span style=\"color: #00af00; text-decoration-color: #00af00\">28</span>)     │         <span style=\"color: #00af00; text-decoration-color: #00af00\">7,084</span> │\n",
       "├─────────────────────────────────┼────────────────────────┼───────────────┤\n",
       "│ conv2d_3 (<span style=\"color: #0087ff; text-decoration-color: #0087ff\">Conv2D</span>)               │ (<span style=\"color: #00d7ff; text-decoration-color: #00d7ff\">None</span>, <span style=\"color: #00af00; text-decoration-color: #00af00\">8</span>, <span style=\"color: #00af00; text-decoration-color: #00af00\">8</span>, <span style=\"color: #00af00; text-decoration-color: #00af00\">28</span>)       │         <span style=\"color: #00af00; text-decoration-color: #00af00\">7,084</span> │\n",
       "├─────────────────────────────────┼────────────────────────┼───────────────┤\n",
       "│ max_pooling2d_1 (<span style=\"color: #0087ff; text-decoration-color: #0087ff\">MaxPooling2D</span>)  │ (<span style=\"color: #00d7ff; text-decoration-color: #00d7ff\">None</span>, <span style=\"color: #00af00; text-decoration-color: #00af00\">4</span>, <span style=\"color: #00af00; text-decoration-color: #00af00\">4</span>, <span style=\"color: #00af00; text-decoration-color: #00af00\">28</span>)       │             <span style=\"color: #00af00; text-decoration-color: #00af00\">0</span> │\n",
       "├─────────────────────────────────┼────────────────────────┼───────────────┤\n",
       "│ flatten (<span style=\"color: #0087ff; text-decoration-color: #0087ff\">Flatten</span>)               │ (<span style=\"color: #00d7ff; text-decoration-color: #00d7ff\">None</span>, <span style=\"color: #00af00; text-decoration-color: #00af00\">448</span>)            │             <span style=\"color: #00af00; text-decoration-color: #00af00\">0</span> │\n",
       "├─────────────────────────────────┼────────────────────────┼───────────────┤\n",
       "│ dense (<span style=\"color: #0087ff; text-decoration-color: #0087ff\">Dense</span>)                   │ (<span style=\"color: #00d7ff; text-decoration-color: #00d7ff\">None</span>, <span style=\"color: #00af00; text-decoration-color: #00af00\">100</span>)            │        <span style=\"color: #00af00; text-decoration-color: #00af00\">44,900</span> │\n",
       "├─────────────────────────────────┼────────────────────────┼───────────────┤\n",
       "│ dropout (<span style=\"color: #0087ff; text-decoration-color: #0087ff\">Dropout</span>)               │ (<span style=\"color: #00d7ff; text-decoration-color: #00d7ff\">None</span>, <span style=\"color: #00af00; text-decoration-color: #00af00\">100</span>)            │             <span style=\"color: #00af00; text-decoration-color: #00af00\">0</span> │\n",
       "├─────────────────────────────────┼────────────────────────┼───────────────┤\n",
       "│ dense_1 (<span style=\"color: #0087ff; text-decoration-color: #0087ff\">Dense</span>)                 │ (<span style=\"color: #00d7ff; text-decoration-color: #00d7ff\">None</span>, <span style=\"color: #00af00; text-decoration-color: #00af00\">10</span>)             │         <span style=\"color: #00af00; text-decoration-color: #00af00\">1,010</span> │\n",
       "├─────────────────────────────────┼────────────────────────┼───────────────┤\n",
       "│ activation (<span style=\"color: #0087ff; text-decoration-color: #0087ff\">Activation</span>)         │ (<span style=\"color: #00d7ff; text-decoration-color: #00d7ff\">None</span>, <span style=\"color: #00af00; text-decoration-color: #00af00\">10</span>)             │             <span style=\"color: #00af00; text-decoration-color: #00af00\">0</span> │\n",
       "└─────────────────────────────────┴────────────────────────┴───────────────┘\n",
       "</pre>\n"
      ],
      "text/plain": [
       "┏━━━━━━━━━━━━━━━━━━━━━━━━━━━━━━━━━┳━━━━━━━━━━━━━━━━━━━━━━━━┳━━━━━━━━━━━━━━━┓\n",
       "┃\u001b[1m \u001b[0m\u001b[1mLayer (type)                   \u001b[0m\u001b[1m \u001b[0m┃\u001b[1m \u001b[0m\u001b[1mOutput Shape          \u001b[0m\u001b[1m \u001b[0m┃\u001b[1m \u001b[0m\u001b[1m      Param #\u001b[0m\u001b[1m \u001b[0m┃\n",
       "┡━━━━━━━━━━━━━━━━━━━━━━━━━━━━━━━━━╇━━━━━━━━━━━━━━━━━━━━━━━━╇━━━━━━━━━━━━━━━┩\n",
       "│ rescaling (\u001b[38;5;33mRescaling\u001b[0m)           │ (\u001b[38;5;45mNone\u001b[0m, \u001b[38;5;34m784\u001b[0m, \u001b[38;5;34m1\u001b[0m)         │             \u001b[38;5;34m0\u001b[0m │\n",
       "├─────────────────────────────────┼────────────────────────┼───────────────┤\n",
       "│ reshape (\u001b[38;5;33mReshape\u001b[0m)               │ (\u001b[38;5;45mNone\u001b[0m, \u001b[38;5;34m28\u001b[0m, \u001b[38;5;34m28\u001b[0m, \u001b[38;5;34m1\u001b[0m)      │             \u001b[38;5;34m0\u001b[0m │\n",
       "├─────────────────────────────────┼────────────────────────┼───────────────┤\n",
       "│ conv2d (\u001b[38;5;33mConv2D\u001b[0m)                 │ (\u001b[38;5;45mNone\u001b[0m, \u001b[38;5;34m26\u001b[0m, \u001b[38;5;34m26\u001b[0m, \u001b[38;5;34m28\u001b[0m)     │           \u001b[38;5;34m280\u001b[0m │\n",
       "├─────────────────────────────────┼────────────────────────┼───────────────┤\n",
       "│ conv2d_1 (\u001b[38;5;33mConv2D\u001b[0m)               │ (\u001b[38;5;45mNone\u001b[0m, \u001b[38;5;34m24\u001b[0m, \u001b[38;5;34m24\u001b[0m, \u001b[38;5;34m28\u001b[0m)     │         \u001b[38;5;34m7,084\u001b[0m │\n",
       "├─────────────────────────────────┼────────────────────────┼───────────────┤\n",
       "│ max_pooling2d (\u001b[38;5;33mMaxPooling2D\u001b[0m)    │ (\u001b[38;5;45mNone\u001b[0m, \u001b[38;5;34m12\u001b[0m, \u001b[38;5;34m12\u001b[0m, \u001b[38;5;34m28\u001b[0m)     │             \u001b[38;5;34m0\u001b[0m │\n",
       "├─────────────────────────────────┼────────────────────────┼───────────────┤\n",
       "│ conv2d_2 (\u001b[38;5;33mConv2D\u001b[0m)               │ (\u001b[38;5;45mNone\u001b[0m, \u001b[38;5;34m10\u001b[0m, \u001b[38;5;34m10\u001b[0m, \u001b[38;5;34m28\u001b[0m)     │         \u001b[38;5;34m7,084\u001b[0m │\n",
       "├─────────────────────────────────┼────────────────────────┼───────────────┤\n",
       "│ conv2d_3 (\u001b[38;5;33mConv2D\u001b[0m)               │ (\u001b[38;5;45mNone\u001b[0m, \u001b[38;5;34m8\u001b[0m, \u001b[38;5;34m8\u001b[0m, \u001b[38;5;34m28\u001b[0m)       │         \u001b[38;5;34m7,084\u001b[0m │\n",
       "├─────────────────────────────────┼────────────────────────┼───────────────┤\n",
       "│ max_pooling2d_1 (\u001b[38;5;33mMaxPooling2D\u001b[0m)  │ (\u001b[38;5;45mNone\u001b[0m, \u001b[38;5;34m4\u001b[0m, \u001b[38;5;34m4\u001b[0m, \u001b[38;5;34m28\u001b[0m)       │             \u001b[38;5;34m0\u001b[0m │\n",
       "├─────────────────────────────────┼────────────────────────┼───────────────┤\n",
       "│ flatten (\u001b[38;5;33mFlatten\u001b[0m)               │ (\u001b[38;5;45mNone\u001b[0m, \u001b[38;5;34m448\u001b[0m)            │             \u001b[38;5;34m0\u001b[0m │\n",
       "├─────────────────────────────────┼────────────────────────┼───────────────┤\n",
       "│ dense (\u001b[38;5;33mDense\u001b[0m)                   │ (\u001b[38;5;45mNone\u001b[0m, \u001b[38;5;34m100\u001b[0m)            │        \u001b[38;5;34m44,900\u001b[0m │\n",
       "├─────────────────────────────────┼────────────────────────┼───────────────┤\n",
       "│ dropout (\u001b[38;5;33mDropout\u001b[0m)               │ (\u001b[38;5;45mNone\u001b[0m, \u001b[38;5;34m100\u001b[0m)            │             \u001b[38;5;34m0\u001b[0m │\n",
       "├─────────────────────────────────┼────────────────────────┼───────────────┤\n",
       "│ dense_1 (\u001b[38;5;33mDense\u001b[0m)                 │ (\u001b[38;5;45mNone\u001b[0m, \u001b[38;5;34m10\u001b[0m)             │         \u001b[38;5;34m1,010\u001b[0m │\n",
       "├─────────────────────────────────┼────────────────────────┼───────────────┤\n",
       "│ activation (\u001b[38;5;33mActivation\u001b[0m)         │ (\u001b[38;5;45mNone\u001b[0m, \u001b[38;5;34m10\u001b[0m)             │             \u001b[38;5;34m0\u001b[0m │\n",
       "└─────────────────────────────────┴────────────────────────┴───────────────┘\n"
      ]
     },
     "metadata": {},
     "output_type": "display_data"
    },
    {
     "data": {
      "text/html": [
       "<pre style=\"white-space:pre;overflow-x:auto;line-height:normal;font-family:Menlo,'DejaVu Sans Mono',consolas,'Courier New',monospace\"><span style=\"font-weight: bold\"> Total params: </span><span style=\"color: #00af00; text-decoration-color: #00af00\">67,442</span> (263.45 KB)\n",
       "</pre>\n"
      ],
      "text/plain": [
       "\u001b[1m Total params: \u001b[0m\u001b[38;5;34m67,442\u001b[0m (263.45 KB)\n"
      ]
     },
     "metadata": {},
     "output_type": "display_data"
    },
    {
     "data": {
      "text/html": [
       "<pre style=\"white-space:pre;overflow-x:auto;line-height:normal;font-family:Menlo,'DejaVu Sans Mono',consolas,'Courier New',monospace\"><span style=\"font-weight: bold\"> Trainable params: </span><span style=\"color: #00af00; text-decoration-color: #00af00\">67,442</span> (263.45 KB)\n",
       "</pre>\n"
      ],
      "text/plain": [
       "\u001b[1m Trainable params: \u001b[0m\u001b[38;5;34m67,442\u001b[0m (263.45 KB)\n"
      ]
     },
     "metadata": {},
     "output_type": "display_data"
    },
    {
     "data": {
      "text/html": [
       "<pre style=\"white-space:pre;overflow-x:auto;line-height:normal;font-family:Menlo,'DejaVu Sans Mono',consolas,'Courier New',monospace\"><span style=\"font-weight: bold\"> Non-trainable params: </span><span style=\"color: #00af00; text-decoration-color: #00af00\">0</span> (0.00 B)\n",
       "</pre>\n"
      ],
      "text/plain": [
       "\u001b[1m Non-trainable params: \u001b[0m\u001b[38;5;34m0\u001b[0m (0.00 B)\n"
      ]
     },
     "metadata": {},
     "output_type": "display_data"
    },
    {
     "name": "stdout",
     "output_type": "stream",
     "text": [
      "None\n",
      "Epoch 1/15\n",
      "\u001b[1m1050/1050\u001b[0m \u001b[32m━━━━━━━━━━━━━━━━━━━━\u001b[0m\u001b[37m\u001b[0m \u001b[1m38s\u001b[0m 34ms/step - categorical_accuracy: 0.6967 - loss: 0.9786 - val_categorical_accuracy: 0.9393 - val_loss: 0.2126\n",
      "Epoch 2/15\n",
      "\u001b[1m1050/1050\u001b[0m \u001b[32m━━━━━━━━━━━━━━━━━━━━\u001b[0m\u001b[37m\u001b[0m \u001b[1m40s\u001b[0m 33ms/step - categorical_accuracy: 0.9336 - loss: 0.2245 - val_categorical_accuracy: 0.9599 - val_loss: 0.1382\n",
      "Epoch 3/15\n",
      "\u001b[1m1050/1050\u001b[0m \u001b[32m━━━━━━━━━━━━━━━━━━━━\u001b[0m\u001b[37m\u001b[0m \u001b[1m34s\u001b[0m 33ms/step - categorical_accuracy: 0.9557 - loss: 0.1507 - val_categorical_accuracy: 0.9670 - val_loss: 0.1091\n",
      "Epoch 4/15\n",
      "\u001b[1m1050/1050\u001b[0m \u001b[32m━━━━━━━━━━━━━━━━━━━━\u001b[0m\u001b[37m\u001b[0m \u001b[1m34s\u001b[0m 33ms/step - categorical_accuracy: 0.9649 - loss: 0.1177 - val_categorical_accuracy: 0.9736 - val_loss: 0.0856\n",
      "Epoch 5/15\n",
      "\u001b[1m1050/1050\u001b[0m \u001b[32m━━━━━━━━━━━━━━━━━━━━\u001b[0m\u001b[37m\u001b[0m \u001b[1m34s\u001b[0m 33ms/step - categorical_accuracy: 0.9701 - loss: 0.1005 - val_categorical_accuracy: 0.9738 - val_loss: 0.0835\n",
      "Epoch 6/15\n",
      "\u001b[1m1050/1050\u001b[0m \u001b[32m━━━━━━━━━━━━━━━━━━━━\u001b[0m\u001b[37m\u001b[0m \u001b[1m34s\u001b[0m 33ms/step - categorical_accuracy: 0.9738 - loss: 0.0824 - val_categorical_accuracy: 0.9768 - val_loss: 0.0725\n",
      "Epoch 7/15\n",
      "\u001b[1m1050/1050\u001b[0m \u001b[32m━━━━━━━━━━━━━━━━━━━━\u001b[0m\u001b[37m\u001b[0m \u001b[1m34s\u001b[0m 33ms/step - categorical_accuracy: 0.9780 - loss: 0.0726 - val_categorical_accuracy: 0.9817 - val_loss: 0.0635\n",
      "Epoch 8/15\n",
      "\u001b[1m1050/1050\u001b[0m \u001b[32m━━━━━━━━━━━━━━━━━━━━\u001b[0m\u001b[37m\u001b[0m \u001b[1m35s\u001b[0m 33ms/step - categorical_accuracy: 0.9801 - loss: 0.0647 - val_categorical_accuracy: 0.9802 - val_loss: 0.0659\n",
      "Epoch 9/15\n",
      "\u001b[1m1050/1050\u001b[0m \u001b[32m━━━━━━━━━━━━━━━━━━━━\u001b[0m\u001b[37m\u001b[0m \u001b[1m35s\u001b[0m 33ms/step - categorical_accuracy: 0.9807 - loss: 0.0629 - val_categorical_accuracy: 0.9819 - val_loss: 0.0600\n",
      "Epoch 10/15\n",
      "\u001b[1m1050/1050\u001b[0m \u001b[32m━━━━━━━━━━━━━━━━━━━━\u001b[0m\u001b[37m\u001b[0m \u001b[1m35s\u001b[0m 33ms/step - categorical_accuracy: 0.9817 - loss: 0.0564 - val_categorical_accuracy: 0.9814 - val_loss: 0.0615\n",
      "Epoch 11/15\n",
      "\u001b[1m1050/1050\u001b[0m \u001b[32m━━━━━━━━━━━━━━━━━━━━\u001b[0m\u001b[37m\u001b[0m \u001b[1m35s\u001b[0m 33ms/step - categorical_accuracy: 0.9832 - loss: 0.0526 - val_categorical_accuracy: 0.9811 - val_loss: 0.0608\n",
      "Epoch 12/15\n",
      "\u001b[1m1050/1050\u001b[0m \u001b[32m━━━━━━━━━━━━━━━━━━━━\u001b[0m\u001b[37m\u001b[0m \u001b[1m41s\u001b[0m 33ms/step - categorical_accuracy: 0.9858 - loss: 0.0465 - val_categorical_accuracy: 0.9823 - val_loss: 0.0581\n",
      "Epoch 13/15\n",
      "\u001b[1m1050/1050\u001b[0m \u001b[32m━━━━━━━━━━━━━━━━━━━━\u001b[0m\u001b[37m\u001b[0m \u001b[1m35s\u001b[0m 33ms/step - categorical_accuracy: 0.9864 - loss: 0.0428 - val_categorical_accuracy: 0.9799 - val_loss: 0.0621\n",
      "Epoch 14/15\n",
      "\u001b[1m1050/1050\u001b[0m \u001b[32m━━━━━━━━━━━━━━━━━━━━\u001b[0m\u001b[37m\u001b[0m \u001b[1m35s\u001b[0m 33ms/step - categorical_accuracy: 0.9866 - loss: 0.0427 - val_categorical_accuracy: 0.9829 - val_loss: 0.0578\n",
      "Epoch 15/15\n",
      "\u001b[1m1050/1050\u001b[0m \u001b[32m━━━━━━━━━━━━━━━━━━━━\u001b[0m\u001b[37m\u001b[0m \u001b[1m35s\u001b[0m 33ms/step - categorical_accuracy: 0.9865 - loss: 0.0410 - val_categorical_accuracy: 0.9842 - val_loss: 0.0537\n"
     ]
    }
   ],
   "source": [
    "input_length = (784,1)\n",
    "n_classes = 10\n",
    "model_one_rescaling = models.Sequential(layers=(\n",
    "    layers.Input(input_length),\n",
    "    layers.Rescaling(1/255), # Scaling to make it between 0-1\n",
    "    layers.Reshape((28, 28, 1)),\n",
    "    layers.Conv2D(28, (3,3)), \n",
    "    layers.Conv2D(28, (3,3)),\n",
    "    layers.MaxPooling2D(),\n",
    "    layers.Conv2D(28, (3,3)),\n",
    "    layers.Conv2D(28, (3,3)),\n",
    "    layers.MaxPooling2D(),\n",
    "    layers.Flatten(),\n",
    "    layers.Dense(100),\n",
    "    layers.Dropout(0.15),\n",
    "    layers.Dense(n_classes),\n",
    "    layers.Activation(\"softmax\"),\n",
    "))\n",
    "\n",
    "model_one_rescaling.compile(\n",
    "    optimizer=optimizers.Adam(learning_rate=0.0001),\n",
    "    loss=losses.CategoricalCrossentropy(),\n",
    "    metrics=[\n",
    "        metrics.CategoricalAccuracy(),\n",
    "    ],\n",
    ")\n",
    "\n",
    "print(model_one_rescaling.summary())\n",
    "\n",
    "# Fit/Train\n",
    "history_model_one = model_one_rescaling.fit(X_train, y_train, epochs=15, validation_split=0.20)\n"
   ]
  },
  {
   "cell_type": "markdown",
   "id": "ae873645",
   "metadata": {
    "papermill": {
     "duration": 0.515318,
     "end_time": "2024-11-28T01:56:09.186030",
     "exception": false,
     "start_time": "2024-11-28T01:56:08.670712",
     "status": "completed"
    },
    "tags": []
   },
   "source": [
    "Now to train the second model with different scaling pre-processor."
   ]
  },
  {
   "cell_type": "code",
   "execution_count": 7,
   "id": "b0e67b88",
   "metadata": {
    "execution": {
     "iopub.execute_input": "2024-11-28T01:56:10.086601Z",
     "iopub.status.busy": "2024-11-28T01:56:10.086157Z",
     "iopub.status.idle": "2024-11-28T02:05:21.451166Z",
     "shell.execute_reply": "2024-11-28T02:05:21.449950Z"
    },
    "papermill": {
     "duration": 551.821125,
     "end_time": "2024-11-28T02:05:21.454009",
     "exception": false,
     "start_time": "2024-11-28T01:56:09.632884",
     "status": "completed"
    },
    "tags": []
   },
   "outputs": [
    {
     "data": {
      "text/html": [
       "<pre style=\"white-space:pre;overflow-x:auto;line-height:normal;font-family:Menlo,'DejaVu Sans Mono',consolas,'Courier New',monospace\"><span style=\"font-weight: bold\">Model: \"sequential_1\"</span>\n",
       "</pre>\n"
      ],
      "text/plain": [
       "\u001b[1mModel: \"sequential_1\"\u001b[0m\n"
      ]
     },
     "metadata": {},
     "output_type": "display_data"
    },
    {
     "data": {
      "text/html": [
       "<pre style=\"white-space:pre;overflow-x:auto;line-height:normal;font-family:Menlo,'DejaVu Sans Mono',consolas,'Courier New',monospace\">┏━━━━━━━━━━━━━━━━━━━━━━━━━━━━━━━━━┳━━━━━━━━━━━━━━━━━━━━━━━━┳━━━━━━━━━━━━━━━┓\n",
       "┃<span style=\"font-weight: bold\"> Layer (type)                    </span>┃<span style=\"font-weight: bold\"> Output Shape           </span>┃<span style=\"font-weight: bold\">       Param # </span>┃\n",
       "┡━━━━━━━━━━━━━━━━━━━━━━━━━━━━━━━━━╇━━━━━━━━━━━━━━━━━━━━━━━━╇━━━━━━━━━━━━━━━┩\n",
       "│ normalization (<span style=\"color: #0087ff; text-decoration-color: #0087ff\">Normalization</span>)   │ (<span style=\"color: #00d7ff; text-decoration-color: #00d7ff\">None</span>, <span style=\"color: #00af00; text-decoration-color: #00af00\">784</span>, <span style=\"color: #00af00; text-decoration-color: #00af00\">1</span>)         │             <span style=\"color: #00af00; text-decoration-color: #00af00\">3</span> │\n",
       "├─────────────────────────────────┼────────────────────────┼───────────────┤\n",
       "│ reshape_1 (<span style=\"color: #0087ff; text-decoration-color: #0087ff\">Reshape</span>)             │ (<span style=\"color: #00d7ff; text-decoration-color: #00d7ff\">None</span>, <span style=\"color: #00af00; text-decoration-color: #00af00\">28</span>, <span style=\"color: #00af00; text-decoration-color: #00af00\">28</span>, <span style=\"color: #00af00; text-decoration-color: #00af00\">1</span>)      │             <span style=\"color: #00af00; text-decoration-color: #00af00\">0</span> │\n",
       "├─────────────────────────────────┼────────────────────────┼───────────────┤\n",
       "│ conv2d_4 (<span style=\"color: #0087ff; text-decoration-color: #0087ff\">Conv2D</span>)               │ (<span style=\"color: #00d7ff; text-decoration-color: #00d7ff\">None</span>, <span style=\"color: #00af00; text-decoration-color: #00af00\">26</span>, <span style=\"color: #00af00; text-decoration-color: #00af00\">26</span>, <span style=\"color: #00af00; text-decoration-color: #00af00\">28</span>)     │           <span style=\"color: #00af00; text-decoration-color: #00af00\">280</span> │\n",
       "├─────────────────────────────────┼────────────────────────┼───────────────┤\n",
       "│ conv2d_5 (<span style=\"color: #0087ff; text-decoration-color: #0087ff\">Conv2D</span>)               │ (<span style=\"color: #00d7ff; text-decoration-color: #00d7ff\">None</span>, <span style=\"color: #00af00; text-decoration-color: #00af00\">24</span>, <span style=\"color: #00af00; text-decoration-color: #00af00\">24</span>, <span style=\"color: #00af00; text-decoration-color: #00af00\">28</span>)     │         <span style=\"color: #00af00; text-decoration-color: #00af00\">7,084</span> │\n",
       "├─────────────────────────────────┼────────────────────────┼───────────────┤\n",
       "│ max_pooling2d_2 (<span style=\"color: #0087ff; text-decoration-color: #0087ff\">MaxPooling2D</span>)  │ (<span style=\"color: #00d7ff; text-decoration-color: #00d7ff\">None</span>, <span style=\"color: #00af00; text-decoration-color: #00af00\">12</span>, <span style=\"color: #00af00; text-decoration-color: #00af00\">12</span>, <span style=\"color: #00af00; text-decoration-color: #00af00\">28</span>)     │             <span style=\"color: #00af00; text-decoration-color: #00af00\">0</span> │\n",
       "├─────────────────────────────────┼────────────────────────┼───────────────┤\n",
       "│ conv2d_6 (<span style=\"color: #0087ff; text-decoration-color: #0087ff\">Conv2D</span>)               │ (<span style=\"color: #00d7ff; text-decoration-color: #00d7ff\">None</span>, <span style=\"color: #00af00; text-decoration-color: #00af00\">10</span>, <span style=\"color: #00af00; text-decoration-color: #00af00\">10</span>, <span style=\"color: #00af00; text-decoration-color: #00af00\">28</span>)     │         <span style=\"color: #00af00; text-decoration-color: #00af00\">7,084</span> │\n",
       "├─────────────────────────────────┼────────────────────────┼───────────────┤\n",
       "│ conv2d_7 (<span style=\"color: #0087ff; text-decoration-color: #0087ff\">Conv2D</span>)               │ (<span style=\"color: #00d7ff; text-decoration-color: #00d7ff\">None</span>, <span style=\"color: #00af00; text-decoration-color: #00af00\">8</span>, <span style=\"color: #00af00; text-decoration-color: #00af00\">8</span>, <span style=\"color: #00af00; text-decoration-color: #00af00\">28</span>)       │         <span style=\"color: #00af00; text-decoration-color: #00af00\">7,084</span> │\n",
       "├─────────────────────────────────┼────────────────────────┼───────────────┤\n",
       "│ max_pooling2d_3 (<span style=\"color: #0087ff; text-decoration-color: #0087ff\">MaxPooling2D</span>)  │ (<span style=\"color: #00d7ff; text-decoration-color: #00d7ff\">None</span>, <span style=\"color: #00af00; text-decoration-color: #00af00\">4</span>, <span style=\"color: #00af00; text-decoration-color: #00af00\">4</span>, <span style=\"color: #00af00; text-decoration-color: #00af00\">28</span>)       │             <span style=\"color: #00af00; text-decoration-color: #00af00\">0</span> │\n",
       "├─────────────────────────────────┼────────────────────────┼───────────────┤\n",
       "│ flatten_1 (<span style=\"color: #0087ff; text-decoration-color: #0087ff\">Flatten</span>)             │ (<span style=\"color: #00d7ff; text-decoration-color: #00d7ff\">None</span>, <span style=\"color: #00af00; text-decoration-color: #00af00\">448</span>)            │             <span style=\"color: #00af00; text-decoration-color: #00af00\">0</span> │\n",
       "├─────────────────────────────────┼────────────────────────┼───────────────┤\n",
       "│ dense_2 (<span style=\"color: #0087ff; text-decoration-color: #0087ff\">Dense</span>)                 │ (<span style=\"color: #00d7ff; text-decoration-color: #00d7ff\">None</span>, <span style=\"color: #00af00; text-decoration-color: #00af00\">100</span>)            │        <span style=\"color: #00af00; text-decoration-color: #00af00\">44,900</span> │\n",
       "├─────────────────────────────────┼────────────────────────┼───────────────┤\n",
       "│ dropout_1 (<span style=\"color: #0087ff; text-decoration-color: #0087ff\">Dropout</span>)             │ (<span style=\"color: #00d7ff; text-decoration-color: #00d7ff\">None</span>, <span style=\"color: #00af00; text-decoration-color: #00af00\">100</span>)            │             <span style=\"color: #00af00; text-decoration-color: #00af00\">0</span> │\n",
       "├─────────────────────────────────┼────────────────────────┼───────────────┤\n",
       "│ dense_3 (<span style=\"color: #0087ff; text-decoration-color: #0087ff\">Dense</span>)                 │ (<span style=\"color: #00d7ff; text-decoration-color: #00d7ff\">None</span>, <span style=\"color: #00af00; text-decoration-color: #00af00\">10</span>)             │         <span style=\"color: #00af00; text-decoration-color: #00af00\">1,010</span> │\n",
       "├─────────────────────────────────┼────────────────────────┼───────────────┤\n",
       "│ activation_1 (<span style=\"color: #0087ff; text-decoration-color: #0087ff\">Activation</span>)       │ (<span style=\"color: #00d7ff; text-decoration-color: #00d7ff\">None</span>, <span style=\"color: #00af00; text-decoration-color: #00af00\">10</span>)             │             <span style=\"color: #00af00; text-decoration-color: #00af00\">0</span> │\n",
       "└─────────────────────────────────┴────────────────────────┴───────────────┘\n",
       "</pre>\n"
      ],
      "text/plain": [
       "┏━━━━━━━━━━━━━━━━━━━━━━━━━━━━━━━━━┳━━━━━━━━━━━━━━━━━━━━━━━━┳━━━━━━━━━━━━━━━┓\n",
       "┃\u001b[1m \u001b[0m\u001b[1mLayer (type)                   \u001b[0m\u001b[1m \u001b[0m┃\u001b[1m \u001b[0m\u001b[1mOutput Shape          \u001b[0m\u001b[1m \u001b[0m┃\u001b[1m \u001b[0m\u001b[1m      Param #\u001b[0m\u001b[1m \u001b[0m┃\n",
       "┡━━━━━━━━━━━━━━━━━━━━━━━━━━━━━━━━━╇━━━━━━━━━━━━━━━━━━━━━━━━╇━━━━━━━━━━━━━━━┩\n",
       "│ normalization (\u001b[38;5;33mNormalization\u001b[0m)   │ (\u001b[38;5;45mNone\u001b[0m, \u001b[38;5;34m784\u001b[0m, \u001b[38;5;34m1\u001b[0m)         │             \u001b[38;5;34m3\u001b[0m │\n",
       "├─────────────────────────────────┼────────────────────────┼───────────────┤\n",
       "│ reshape_1 (\u001b[38;5;33mReshape\u001b[0m)             │ (\u001b[38;5;45mNone\u001b[0m, \u001b[38;5;34m28\u001b[0m, \u001b[38;5;34m28\u001b[0m, \u001b[38;5;34m1\u001b[0m)      │             \u001b[38;5;34m0\u001b[0m │\n",
       "├─────────────────────────────────┼────────────────────────┼───────────────┤\n",
       "│ conv2d_4 (\u001b[38;5;33mConv2D\u001b[0m)               │ (\u001b[38;5;45mNone\u001b[0m, \u001b[38;5;34m26\u001b[0m, \u001b[38;5;34m26\u001b[0m, \u001b[38;5;34m28\u001b[0m)     │           \u001b[38;5;34m280\u001b[0m │\n",
       "├─────────────────────────────────┼────────────────────────┼───────────────┤\n",
       "│ conv2d_5 (\u001b[38;5;33mConv2D\u001b[0m)               │ (\u001b[38;5;45mNone\u001b[0m, \u001b[38;5;34m24\u001b[0m, \u001b[38;5;34m24\u001b[0m, \u001b[38;5;34m28\u001b[0m)     │         \u001b[38;5;34m7,084\u001b[0m │\n",
       "├─────────────────────────────────┼────────────────────────┼───────────────┤\n",
       "│ max_pooling2d_2 (\u001b[38;5;33mMaxPooling2D\u001b[0m)  │ (\u001b[38;5;45mNone\u001b[0m, \u001b[38;5;34m12\u001b[0m, \u001b[38;5;34m12\u001b[0m, \u001b[38;5;34m28\u001b[0m)     │             \u001b[38;5;34m0\u001b[0m │\n",
       "├─────────────────────────────────┼────────────────────────┼───────────────┤\n",
       "│ conv2d_6 (\u001b[38;5;33mConv2D\u001b[0m)               │ (\u001b[38;5;45mNone\u001b[0m, \u001b[38;5;34m10\u001b[0m, \u001b[38;5;34m10\u001b[0m, \u001b[38;5;34m28\u001b[0m)     │         \u001b[38;5;34m7,084\u001b[0m │\n",
       "├─────────────────────────────────┼────────────────────────┼───────────────┤\n",
       "│ conv2d_7 (\u001b[38;5;33mConv2D\u001b[0m)               │ (\u001b[38;5;45mNone\u001b[0m, \u001b[38;5;34m8\u001b[0m, \u001b[38;5;34m8\u001b[0m, \u001b[38;5;34m28\u001b[0m)       │         \u001b[38;5;34m7,084\u001b[0m │\n",
       "├─────────────────────────────────┼────────────────────────┼───────────────┤\n",
       "│ max_pooling2d_3 (\u001b[38;5;33mMaxPooling2D\u001b[0m)  │ (\u001b[38;5;45mNone\u001b[0m, \u001b[38;5;34m4\u001b[0m, \u001b[38;5;34m4\u001b[0m, \u001b[38;5;34m28\u001b[0m)       │             \u001b[38;5;34m0\u001b[0m │\n",
       "├─────────────────────────────────┼────────────────────────┼───────────────┤\n",
       "│ flatten_1 (\u001b[38;5;33mFlatten\u001b[0m)             │ (\u001b[38;5;45mNone\u001b[0m, \u001b[38;5;34m448\u001b[0m)            │             \u001b[38;5;34m0\u001b[0m │\n",
       "├─────────────────────────────────┼────────────────────────┼───────────────┤\n",
       "│ dense_2 (\u001b[38;5;33mDense\u001b[0m)                 │ (\u001b[38;5;45mNone\u001b[0m, \u001b[38;5;34m100\u001b[0m)            │        \u001b[38;5;34m44,900\u001b[0m │\n",
       "├─────────────────────────────────┼────────────────────────┼───────────────┤\n",
       "│ dropout_1 (\u001b[38;5;33mDropout\u001b[0m)             │ (\u001b[38;5;45mNone\u001b[0m, \u001b[38;5;34m100\u001b[0m)            │             \u001b[38;5;34m0\u001b[0m │\n",
       "├─────────────────────────────────┼────────────────────────┼───────────────┤\n",
       "│ dense_3 (\u001b[38;5;33mDense\u001b[0m)                 │ (\u001b[38;5;45mNone\u001b[0m, \u001b[38;5;34m10\u001b[0m)             │         \u001b[38;5;34m1,010\u001b[0m │\n",
       "├─────────────────────────────────┼────────────────────────┼───────────────┤\n",
       "│ activation_1 (\u001b[38;5;33mActivation\u001b[0m)       │ (\u001b[38;5;45mNone\u001b[0m, \u001b[38;5;34m10\u001b[0m)             │             \u001b[38;5;34m0\u001b[0m │\n",
       "└─────────────────────────────────┴────────────────────────┴───────────────┘\n"
      ]
     },
     "metadata": {},
     "output_type": "display_data"
    },
    {
     "data": {
      "text/html": [
       "<pre style=\"white-space:pre;overflow-x:auto;line-height:normal;font-family:Menlo,'DejaVu Sans Mono',consolas,'Courier New',monospace\"><span style=\"font-weight: bold\"> Total params: </span><span style=\"color: #00af00; text-decoration-color: #00af00\">67,445</span> (263.46 KB)\n",
       "</pre>\n"
      ],
      "text/plain": [
       "\u001b[1m Total params: \u001b[0m\u001b[38;5;34m67,445\u001b[0m (263.46 KB)\n"
      ]
     },
     "metadata": {},
     "output_type": "display_data"
    },
    {
     "data": {
      "text/html": [
       "<pre style=\"white-space:pre;overflow-x:auto;line-height:normal;font-family:Menlo,'DejaVu Sans Mono',consolas,'Courier New',monospace\"><span style=\"font-weight: bold\"> Trainable params: </span><span style=\"color: #00af00; text-decoration-color: #00af00\">67,442</span> (263.45 KB)\n",
       "</pre>\n"
      ],
      "text/plain": [
       "\u001b[1m Trainable params: \u001b[0m\u001b[38;5;34m67,442\u001b[0m (263.45 KB)\n"
      ]
     },
     "metadata": {},
     "output_type": "display_data"
    },
    {
     "data": {
      "text/html": [
       "<pre style=\"white-space:pre;overflow-x:auto;line-height:normal;font-family:Menlo,'DejaVu Sans Mono',consolas,'Courier New',monospace\"><span style=\"font-weight: bold\"> Non-trainable params: </span><span style=\"color: #00af00; text-decoration-color: #00af00\">3</span> (16.00 B)\n",
       "</pre>\n"
      ],
      "text/plain": [
       "\u001b[1m Non-trainable params: \u001b[0m\u001b[38;5;34m3\u001b[0m (16.00 B)\n"
      ]
     },
     "metadata": {},
     "output_type": "display_data"
    },
    {
     "name": "stdout",
     "output_type": "stream",
     "text": [
      "None\n",
      "Epoch 1/15\n",
      "\u001b[1m1050/1050\u001b[0m \u001b[32m━━━━━━━━━━━━━━━━━━━━\u001b[0m\u001b[37m\u001b[0m \u001b[1m37s\u001b[0m 34ms/step - categorical_accuracy: 0.6221 - loss: 10.4859 - val_categorical_accuracy: 0.9161 - val_loss: 0.8040\n",
      "Epoch 2/15\n",
      "\u001b[1m1050/1050\u001b[0m \u001b[32m━━━━━━━━━━━━━━━━━━━━\u001b[0m\u001b[37m\u001b[0m \u001b[1m35s\u001b[0m 33ms/step - categorical_accuracy: 0.8978 - loss: 1.0300 - val_categorical_accuracy: 0.9399 - val_loss: 0.4821\n",
      "Epoch 3/15\n",
      "\u001b[1m1050/1050\u001b[0m \u001b[32m━━━━━━━━━━━━━━━━━━━━\u001b[0m\u001b[37m\u001b[0m \u001b[1m41s\u001b[0m 33ms/step - categorical_accuracy: 0.9275 - loss: 0.5696 - val_categorical_accuracy: 0.9524 - val_loss: 0.3043\n",
      "Epoch 4/15\n",
      "\u001b[1m1050/1050\u001b[0m \u001b[32m━━━━━━━━━━━━━━━━━━━━\u001b[0m\u001b[37m\u001b[0m \u001b[1m35s\u001b[0m 33ms/step - categorical_accuracy: 0.9406 - loss: 0.4190 - val_categorical_accuracy: 0.9599 - val_loss: 0.2697\n",
      "Epoch 5/15\n",
      "\u001b[1m1050/1050\u001b[0m \u001b[32m━━━━━━━━━━━━━━━━━━━━\u001b[0m\u001b[37m\u001b[0m \u001b[1m41s\u001b[0m 33ms/step - categorical_accuracy: 0.9536 - loss: 0.2973 - val_categorical_accuracy: 0.9656 - val_loss: 0.1981\n",
      "Epoch 6/15\n",
      "\u001b[1m1050/1050\u001b[0m \u001b[32m━━━━━━━━━━━━━━━━━━━━\u001b[0m\u001b[37m\u001b[0m \u001b[1m35s\u001b[0m 34ms/step - categorical_accuracy: 0.9586 - loss: 0.2321 - val_categorical_accuracy: 0.9658 - val_loss: 0.1860\n",
      "Epoch 7/15\n",
      "\u001b[1m1050/1050\u001b[0m \u001b[32m━━━━━━━━━━━━━━━━━━━━\u001b[0m\u001b[37m\u001b[0m \u001b[1m35s\u001b[0m 34ms/step - categorical_accuracy: 0.9650 - loss: 0.1910 - val_categorical_accuracy: 0.9695 - val_loss: 0.1543\n",
      "Epoch 8/15\n",
      "\u001b[1m1050/1050\u001b[0m \u001b[32m━━━━━━━━━━━━━━━━━━━━\u001b[0m\u001b[37m\u001b[0m \u001b[1m35s\u001b[0m 33ms/step - categorical_accuracy: 0.9699 - loss: 0.1489 - val_categorical_accuracy: 0.9704 - val_loss: 0.1587\n",
      "Epoch 9/15\n",
      "\u001b[1m1050/1050\u001b[0m \u001b[32m━━━━━━━━━━━━━━━━━━━━\u001b[0m\u001b[37m\u001b[0m \u001b[1m35s\u001b[0m 33ms/step - categorical_accuracy: 0.9723 - loss: 0.1283 - val_categorical_accuracy: 0.9699 - val_loss: 0.1564\n",
      "Epoch 10/15\n",
      "\u001b[1m1050/1050\u001b[0m \u001b[32m━━━━━━━━━━━━━━━━━━━━\u001b[0m\u001b[37m\u001b[0m \u001b[1m35s\u001b[0m 33ms/step - categorical_accuracy: 0.9737 - loss: 0.1167 - val_categorical_accuracy: 0.9731 - val_loss: 0.1366\n",
      "Epoch 11/15\n",
      "\u001b[1m1050/1050\u001b[0m \u001b[32m━━━━━━━━━━━━━━━━━━━━\u001b[0m\u001b[37m\u001b[0m \u001b[1m35s\u001b[0m 33ms/step - categorical_accuracy: 0.9780 - loss: 0.0910 - val_categorical_accuracy: 0.9736 - val_loss: 0.1289\n",
      "Epoch 12/15\n",
      "\u001b[1m1050/1050\u001b[0m \u001b[32m━━━━━━━━━━━━━━━━━━━━\u001b[0m\u001b[37m\u001b[0m \u001b[1m35s\u001b[0m 33ms/step - categorical_accuracy: 0.9784 - loss: 0.0878 - val_categorical_accuracy: 0.9743 - val_loss: 0.1348\n",
      "Epoch 13/15\n",
      "\u001b[1m1050/1050\u001b[0m \u001b[32m━━━━━━━━━━━━━━━━━━━━\u001b[0m\u001b[37m\u001b[0m \u001b[1m35s\u001b[0m 33ms/step - categorical_accuracy: 0.9825 - loss: 0.0700 - val_categorical_accuracy: 0.9762 - val_loss: 0.1211\n",
      "Epoch 14/15\n",
      "\u001b[1m1050/1050\u001b[0m \u001b[32m━━━━━━━━━━━━━━━━━━━━\u001b[0m\u001b[37m\u001b[0m \u001b[1m41s\u001b[0m 33ms/step - categorical_accuracy: 0.9802 - loss: 0.0813 - val_categorical_accuracy: 0.9757 - val_loss: 0.1240\n",
      "Epoch 15/15\n",
      "\u001b[1m1050/1050\u001b[0m \u001b[32m━━━━━━━━━━━━━━━━━━━━\u001b[0m\u001b[37m\u001b[0m \u001b[1m41s\u001b[0m 33ms/step - categorical_accuracy: 0.9840 - loss: 0.0652 - val_categorical_accuracy: 0.9714 - val_loss: 0.1565\n"
     ]
    }
   ],
   "source": [
    "model_two_normalization = models.Sequential(layers=(\n",
    "    layers.Input(input_length),\n",
    "    layers.Normalization(), # Center around zero\n",
    "    layers.Reshape((28, 28, 1)),\n",
    "    layers.Conv2D(28, (3,3)), \n",
    "    layers.Conv2D(28, (3,3)),\n",
    "    layers.MaxPooling2D(),\n",
    "    layers.Conv2D(28, (3,3)),\n",
    "    layers.Conv2D(28, (3,3)),\n",
    "    layers.MaxPooling2D(),\n",
    "    layers.Flatten(),\n",
    "    layers.Dense(100),\n",
    "    layers.Dropout(0.15),\n",
    "    layers.Dense(n_classes),\n",
    "    layers.Activation(\"softmax\"),\n",
    "))\n",
    "\n",
    "model_two_normalization.compile(\n",
    "    optimizer=optimizers.Adam(learning_rate=0.0001),\n",
    "    loss=losses.CategoricalCrossentropy(),\n",
    "    metrics=[\n",
    "        metrics.CategoricalAccuracy(),\n",
    "    ],\n",
    ")\n",
    "\n",
    "print(model_two_normalization.summary())\n",
    "\n",
    "# Fit/Train\n",
    "history_model_two = model_two_normalization.fit(X_train, y_train, epochs=15, validation_split=0.20)\n"
   ]
  },
  {
   "cell_type": "markdown",
   "id": "3ade47f0",
   "metadata": {
    "papermill": {
     "duration": 1.002573,
     "end_time": "2024-11-28T02:05:23.477697",
     "exception": false,
     "start_time": "2024-11-28T02:05:22.475124",
     "status": "completed"
    },
    "tags": []
   },
   "source": [
    "Looks like how the model is scaled does not make that big of a difference, but the graphs will help further show that.\n",
    "\n",
    "Now to plot the loss and accuracy from the training history to see if there is a better epoch to look at."
   ]
  },
  {
   "cell_type": "code",
   "execution_count": 8,
   "id": "2a5338cd",
   "metadata": {
    "execution": {
     "iopub.execute_input": "2024-11-28T02:05:25.354679Z",
     "iopub.status.busy": "2024-11-28T02:05:25.354183Z",
     "iopub.status.idle": "2024-11-28T02:05:25.360875Z",
     "shell.execute_reply": "2024-11-28T02:05:25.359444Z"
    },
    "papermill": {
     "duration": 0.987321,
     "end_time": "2024-11-28T02:05:25.363352",
     "exception": false,
     "start_time": "2024-11-28T02:05:24.376031",
     "status": "completed"
    },
    "tags": []
   },
   "outputs": [
    {
     "name": "stdout",
     "output_type": "stream",
     "text": [
      "{'categorical_accuracy': [0.7707440257072449, 0.9043452143669128, 0.9283630847930908, 0.9431547522544861, 0.9533631205558777, 0.958184540271759, 0.9647023677825928, 0.9679166674613953, 0.9700595140457153, 0.9725595116615295, 0.9765178561210632, 0.9770833253860474, 0.9808035492897034, 0.9804762005805969, 0.9817261695861816], 'loss': [4.343984603881836, 0.9195051789283752, 0.5642310380935669, 0.39573073387145996, 0.2908867597579956, 0.23050056397914886, 0.18919780850410461, 0.160809725522995, 0.1389913707971573, 0.12344127893447876, 0.09914125502109528, 0.09581804275512695, 0.07724559307098389, 0.07608699053525925, 0.07607611268758774], 'val_categorical_accuracy': [0.9160714149475098, 0.9398809671401978, 0.9523809552192688, 0.9598809480667114, 0.9655952453613281, 0.965833306312561, 0.9695237874984741, 0.9703571200370789, 0.9698809385299683, 0.9730952382087708, 0.9735714197158813, 0.9742857217788696, 0.976190447807312, 0.9757142663002014, 0.9714285731315613], 'val_loss': [0.8040444254875183, 0.48212915658950806, 0.3043000400066376, 0.2696544826030731, 0.19809523224830627, 0.1859530508518219, 0.15434932708740234, 0.15872074663639069, 0.15638351440429688, 0.1365702748298645, 0.1288512498140335, 0.1347944438457489, 0.12106376141309738, 0.12402322143316269, 0.15649326145648956]}\n"
     ]
    }
   ],
   "source": [
    "print(history_model_two.history)"
   ]
  },
  {
   "cell_type": "code",
   "execution_count": 9,
   "id": "2d03edb8",
   "metadata": {
    "execution": {
     "iopub.execute_input": "2024-11-28T02:05:27.255249Z",
     "iopub.status.busy": "2024-11-28T02:05:27.254614Z",
     "iopub.status.idle": "2024-11-28T02:05:27.842792Z",
     "shell.execute_reply": "2024-11-28T02:05:27.841672Z"
    },
    "papermill": {
     "duration": 1.503193,
     "end_time": "2024-11-28T02:05:27.845219",
     "exception": false,
     "start_time": "2024-11-28T02:05:26.342026",
     "status": "completed"
    },
    "tags": []
   },
   "outputs": [
    {
     "data": {
      "image/png": "[encoded data removed]",
      "text/plain": [
       "<Figure size 640x480 with 1 Axes>"
      ]
     },
     "metadata": {},
     "output_type": "display_data"
    },
    {
     "data": {
      "image/png": "[encoded data removed]",
      "text/plain": [
       "<Figure size 640x480 with 1 Axes>"
      ]
     },
     "metadata": {},
     "output_type": "display_data"
    }
   ],
   "source": [
    "# Graphs for the previous models fit\n",
    "# Accuracy\n",
    "plt.plot(history_model_one.history[\"categorical_accuracy\"])\n",
    "plt.plot(history_model_one.history[\"val_categorical_accuracy\"])\n",
    "plt.plot(history_model_two.history[\"categorical_accuracy\"])\n",
    "plt.plot(history_model_two.history[\"val_categorical_accuracy\"])\n",
    "plt.title(\"Model Accuracy vs Epoch\")\n",
    "plt.ylabel(\"Accuracy\")\n",
    "plt.xlabel(\"Epoch\")\n",
    "plt.legend([\"Model One Train\", \"Model One Val\", \"Model Two Train\", \"Model Two Val\"], loc=\"upper left\")\n",
    "plt.show()\n",
    "\n",
    "# Loss\n",
    "plt.plot(history_model_one.history[\"loss\"])\n",
    "plt.plot(history_model_one.history[\"val_loss\"])\n",
    "plt.plot(history_model_two.history[\"loss\"])\n",
    "plt.plot(history_model_two.history[\"val_loss\"])\n",
    "plt.title(\"Model Loss vs Epoch\")\n",
    "plt.ylabel(\"Loss\")\n",
    "plt.xlabel(\"Epoch\")\n",
    "plt.legend([\"Model One Train\", \"Model One Val\", \"Model Two Train\", \"Model Two Val\"], loc=\"upper left\")\n",
    "plt.show()"
   ]
  },
  {
   "cell_type": "markdown",
   "id": "762c8c5e",
   "metadata": {
    "papermill": {
     "duration": 0.963358,
     "end_time": "2024-11-28T02:05:29.828522",
     "exception": false,
     "start_time": "2024-11-28T02:05:28.865164",
     "status": "completed"
    },
    "tags": []
   },
   "source": [
    "# Conclusion and results\n",
    "\n",
    "One issue that was run into immediately was using the `Accuracy` class instead of the `CategoricalAccuracy` which made it seem like the models were performing very poorly. So the initial assumption was that model two performed better than model one, but in reality they both were performing very well. Also it appears like even with the droppout layer there is sufficient to prevent overfitting with this structure. The CNN worked very well even just after two epochs and as seen both models performed well even though the normalization process was different, I had suspected that training times would differ and one of the mechanism was more efficient. A major limiting factor for this model is the input data must be 784 pixel long array and extra steps would need to be taken for the model to work for other sized input as well as multiple digits.\n",
    "\n",
    "The following blocks are further analysis of the results and taking a look at what actually failed to match in the training data.\n"
   ]
  },
  {
   "cell_type": "code",
   "execution_count": 10,
   "id": "603058ae",
   "metadata": {
    "execution": {
     "iopub.execute_input": "2024-11-28T02:05:31.697828Z",
     "iopub.status.busy": "2024-11-28T02:05:31.697014Z",
     "iopub.status.idle": "2024-11-28T02:05:49.294142Z",
     "shell.execute_reply": "2024-11-28T02:05:49.292919Z"
    },
    "papermill": {
     "duration": 18.496143,
     "end_time": "2024-11-28T02:05:49.296732",
     "exception": false,
     "start_time": "2024-11-28T02:05:30.800589",
     "status": "completed"
    },
    "tags": []
   },
   "outputs": [
    {
     "name": "stdout",
     "output_type": "stream",
     "text": [
      "\u001b[1m875/875\u001b[0m \u001b[32m━━━━━━━━━━━━━━━━━━━━\u001b[0m\u001b[37m\u001b[0m \u001b[1m8s\u001b[0m 9ms/step\n",
      "\u001b[1m875/875\u001b[0m \u001b[32m━━━━━━━━━━━━━━━━━━━━\u001b[0m\u001b[37m\u001b[0m \u001b[1m8s\u001b[0m 9ms/step\n"
     ]
    }
   ],
   "source": [
    "# Result submission\n",
    "predictions_model_one = np.argmax(model_one_rescaling.predict(X_test), axis=1)\n",
    "predictions_model_two = np.argmax(model_two_normalization.predict(X_test), axis=1)\n",
    "pd.DataFrame({\"ImageId\": list(range(1, len(predictions_model_one) + 1)), \"Label\": predictions_model_two}).to_csv(\"submission.csv\", index=False, header=True)\n"
   ]
  },
  {
   "cell_type": "code",
   "execution_count": 11,
   "id": "b1991100",
   "metadata": {
    "execution": {
     "iopub.execute_input": "2024-11-28T02:05:51.279067Z",
     "iopub.status.busy": "2024-11-28T02:05:51.278658Z",
     "iopub.status.idle": "2024-11-28T02:05:51.666359Z",
     "shell.execute_reply": "2024-11-28T02:05:51.665148Z"
    },
    "papermill": {
     "duration": 1.393294,
     "end_time": "2024-11-28T02:05:51.668764",
     "exception": false,
     "start_time": "2024-11-28T02:05:50.275470",
     "status": "completed"
    },
    "tags": []
   },
   "outputs": [
    {
     "name": "stdout",
     "output_type": "stream",
     "text": [
      "Predictions with model one\n"
     ]
    },
    {
     "data": {
      "image/png": "[encoded data removed]",
      "text/plain": [
       "<Figure size 500x500 with 1 Axes>"
      ]
     },
     "metadata": {},
     "output_type": "display_data"
    },
    {
     "data": {
      "image/png": "[encoded data removed]",
      "text/plain": [
       "<Figure size 500x500 with 1 Axes>"
      ]
     },
     "metadata": {},
     "output_type": "display_data"
    },
    {
     "name": "stdout",
     "output_type": "stream",
     "text": [
      "Predictions with model two\n"
     ]
    },
    {
     "data": {
      "image/png": "[encoded data removed]",
      "text/plain": [
       "<Figure size 500x500 with 1 Axes>"
      ]
     },
     "metadata": {},
     "output_type": "display_data"
    },
    {
     "data": {
      "image/png": "[encoded data removed]",
      "text/plain": [
       "<Figure size 500x500 with 1 Axes>"
      ]
     },
     "metadata": {},
     "output_type": "display_data"
    }
   ],
   "source": [
    "print(\"Predictions with model one\")\n",
    "plot_image(X_test[0], predictions_model_one[0])\n",
    "plot_image(X_test[2], predictions_model_one[2])\n",
    "\n",
    "# Plot image and suspected label\n",
    "print(\"Predictions with model two\")\n",
    "plot_image(X_test[0], predictions_model_two[0])\n",
    "plot_image(X_test[2], predictions_model_two[2])"
   ]
  },
  {
   "cell_type": "markdown",
   "id": "dacddfb9",
   "metadata": {
    "papermill": {
     "duration": 1.060709,
     "end_time": "2024-11-28T02:05:53.647726",
     "exception": false,
     "start_time": "2024-11-28T02:05:52.587017",
     "status": "completed"
    },
    "tags": []
   },
   "source": [
    "Showing examples from the training that failed to label correctly."
   ]
  },
  {
   "cell_type": "code",
   "execution_count": 12,
   "id": "52481855",
   "metadata": {
    "execution": {
     "iopub.execute_input": "2024-11-28T02:05:55.665351Z",
     "iopub.status.busy": "2024-11-28T02:05:55.664462Z",
     "iopub.status.idle": "2024-11-28T02:06:21.549687Z",
     "shell.execute_reply": "2024-11-28T02:06:21.548357Z"
    },
    "papermill": {
     "duration": 26.890626,
     "end_time": "2024-11-28T02:06:21.552270",
     "exception": false,
     "start_time": "2024-11-28T02:05:54.661644",
     "status": "completed"
    },
    "tags": []
   },
   "outputs": [
    {
     "name": "stdout",
     "output_type": "stream",
     "text": [
      "\u001b[1m1313/1313\u001b[0m \u001b[32m━━━━━━━━━━━━━━━━━━━━\u001b[0m\u001b[37m\u001b[0m \u001b[1m12s\u001b[0m 9ms/step\n",
      "\u001b[1m1313/1313\u001b[0m \u001b[32m━━━━━━━━━━━━━━━━━━━━\u001b[0m\u001b[37m\u001b[0m \u001b[1m12s\u001b[0m 9ms/step\n"
     ]
    }
   ],
   "source": [
    "# Run predictions on training samples\n",
    "predictions_train_model_one = np.argmax(model_one_rescaling.predict(X_train), axis=1)\n",
    "predictions_train_model_two = np.argmax(model_two_normalization.predict(X_train), axis=1)    "
   ]
  },
  {
   "cell_type": "code",
   "execution_count": 13,
   "id": "3a9d907b",
   "metadata": {
    "execution": {
     "iopub.execute_input": "2024-11-28T02:06:23.505108Z",
     "iopub.status.busy": "2024-11-28T02:06:23.504689Z",
     "iopub.status.idle": "2024-11-28T02:06:25.960234Z",
     "shell.execute_reply": "2024-11-28T02:06:25.958959Z"
    },
    "papermill": {
     "duration": 3.469347,
     "end_time": "2024-11-28T02:06:25.962875",
     "exception": false,
     "start_time": "2024-11-28T02:06:22.493528",
     "status": "completed"
    },
    "tags": []
   },
   "outputs": [
    {
     "name": "stdout",
     "output_type": "stream",
     "text": [
      "Model One\n",
      "Actual: 9\n"
     ]
    },
    {
     "data": {
      "image/png": "[encoded data removed]",
      "text/plain": [
       "<Figure size 500x500 with 1 Axes>"
      ]
     },
     "metadata": {},
     "output_type": "display_data"
    },
    {
     "name": "stdout",
     "output_type": "stream",
     "text": [
      "Model Two\n",
      "Actual: 5\n"
     ]
    },
    {
     "data": {
      "image/png": "[encoded data removed]",
      "text/plain": [
       "<Figure size 500x500 with 1 Axes>"
      ]
     },
     "metadata": {},
     "output_type": "display_data"
    },
    {
     "name": "stdout",
     "output_type": "stream",
     "text": [
      "Model Two\n",
      "Actual: 8\n"
     ]
    },
    {
     "data": {
      "image/png": "[encoded data removed]",
      "text/plain": [
       "<Figure size 500x500 with 1 Axes>"
      ]
     },
     "metadata": {},
     "output_type": "display_data"
    },
    {
     "name": "stdout",
     "output_type": "stream",
     "text": [
      "Model One\n",
      "Actual: 4\n"
     ]
    },
    {
     "data": {
      "image/png": "[encoded data removed]",
      "text/plain": [
       "<Figure size 500x500 with 1 Axes>"
      ]
     },
     "metadata": {},
     "output_type": "display_data"
    },
    {
     "name": "stdout",
     "output_type": "stream",
     "text": [
      "Model Two\n",
      "Actual: 9\n"
     ]
    },
    {
     "data": {
      "image/png": "[encoded data removed]",
      "text/plain": [
       "<Figure size 500x500 with 1 Axes>"
      ]
     },
     "metadata": {},
     "output_type": "display_data"
    },
    {
     "name": "stdout",
     "output_type": "stream",
     "text": [
      "Model One\n",
      "Actual: 2\n"
     ]
    },
    {
     "data": {
      "image/png": "[encoded data removed]",
      "text/plain": [
       "<Figure size 500x500 with 1 Axes>"
      ]
     },
     "metadata": {},
     "output_type": "display_data"
    }
   ],
   "source": [
    "max_find = 3\n",
    "pred_one_found = 0\n",
    "pred_two_found = 0\n",
    "\n",
    "for i in range(len(predictions_train_model_one)):\n",
    "    img = X_train[i]\n",
    "    actual_label = train_df.iloc[:,0].values[i]\n",
    "    if pred_one_found < max_find and predictions_train_model_one[i] != actual_label:\n",
    "        pred_one_found += 1\n",
    "        print(\"Model One\")\n",
    "        print(\"Actual:\", actual_label)\n",
    "        plot_image(img, predictions_train_model_one[i])\n",
    "    \n",
    "    if pred_two_found < max_find and predictions_train_model_two[i] != actual_label:\n",
    "        pred_two_found += 1\n",
    "        print(\"Model Two\")\n",
    "        print(\"Actual:\", actual_label)\n",
    "        plot_image(img, predictions_train_model_two[i])"
   ]
  },
  {
   "cell_type": "markdown",
   "id": "7738c867",
   "metadata": {
    "papermill": {
     "duration": 0.94175,
     "end_time": "2024-11-28T02:06:27.928357",
     "exception": false,
     "start_time": "2024-11-28T02:06:26.986607",
     "status": "completed"
    },
    "tags": []
   },
   "source": [
    "From those errors, I would also fail to identify some of those entries and the models did a good job of pulling out some good patterns and was still able to train and execute pretty quickly just on CPU.\n",
    "\n",
    "Thank you for checking out my notebook :)"
   ]
  }
 ],
 "metadata": {
  "kaggle": {
   "accelerator": "none",
   "dataSources": [
    {
     "databundleVersionId": 861823,
     "sourceId": 3004,
     "sourceType": "competition"
    }
   ],
   "dockerImageVersionId": 30786,
   "isGpuEnabled": false,
   "isInternetEnabled": true,
   "language": "python",
   "sourceType": "notebook"
  },
  "kernelspec": {
   "display_name": "Python 3",
   "language": "python",
   "name": "python3"
  },
  "language_info": {
   "codemirror_mode": {
    "name": "ipython",
    "version": 3
   },
   "file_extension": ".py",
   "mimetype": "text/x-python",
   "name": "python",
   "nbconvert_exporter": "python",
   "pygments_lexer": "ipython3",
   "version": "3.10.14"
  },
  "papermill": {
   "default_parameters": {},
   "duration": 1182.331013,
   "end_time": "2024-11-28T02:06:31.453605",
   "environment_variables": {},
   "exception": null,
   "input_path": "__notebook__.ipynb",
   "output_path": "__notebook__.ipynb",
   "parameters": {},
   "start_time": "2024-11-28T01:46:49.122592",
   "version": "2.6.0"
  }
 },
 "nbformat": 4,
 "nbformat_minor": 5
}
